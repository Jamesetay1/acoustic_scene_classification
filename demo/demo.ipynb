{
 "cells": [
  {
   "cell_type": "code",
   "execution_count": 3,
   "metadata": {},
   "outputs": [],
   "source": [
    "import pickle\n",
    "from sklearn.decomposition import PCA\n",
    "\n",
    "ClassNames = ['airport', 'bus', 'metro', 'metro_station', 'park', 'public_square',\n",
    " 'shopping_mall', 'street_pedestrian', 'street_traffic', 'tram']"
   ]
  },
  {
   "cell_type": "code",
   "execution_count": 4,
   "metadata": {},
   "outputs": [
    {
     "name": "stdout",
     "output_type": "stream",
     "text": [
      "[[ 0.20173562  1.4312828  -0.14845628]\n",
      " [ 0.35758138  0.89702064  0.1425996 ]\n",
      " [ 0.32068294  1.0939369   0.23514386]\n",
      " ...\n",
      " [-1.4473528  -0.91588306  0.01410972]\n",
      " [-0.7841657  -0.740765    0.56385636]\n",
      " [-1.365814   -0.66108775 -0.08615839]]\n"
     ]
    }
   ],
   "source": [
    "# Load in pckl files of logits and yvals\n",
    "with open('/work/contractors/jtaylor/acoustic_scene_classification/demo/twostage_embeddings.pckl', 'rb') as f:\n",
    "    two_stage_embeddings, two_stage_y = pickle.load(f)\n",
    "    \n",
    "pca3 = PCA(3)\n",
    "pca3.fit(two_stage_embeddings)\n",
    "embeddings3 = pca3.transform(two_stage_embeddings)\n",
    "print(embeddings3)\n",
    "    "
   ]
  },
  {
   "cell_type": "code",
   "execution_count": null,
   "metadata": {},
   "outputs": [],
   "source": [
    "data = embeddings3\n",
    "ids = two_stage_y\n",
    "# creating 3d plot using matplotlib \n",
    "# in python\n",
    " \n",
    "# for creating a responsive plot\n",
    "%matplotlib widget\n",
    " \n",
    "# importing required libraries\n",
    "from mpl_toolkits.mplot3d import Axes3D\n",
    "import matplotlib.pyplot as plt\n",
    " \n",
    "indices = np.random.choice(len(data), size=1000, replace=False)\n",
    "\n",
    "# Extract x, y, and z coordinates from the sampled indices\n",
    "x = data[indices, 0]\n",
    "y = data[indices, 1]\n",
    "z = data[indices, 2]\n",
    "\n",
    "# Extract IDs for the sampled indices\n",
    "sampled_ids = [ids[i] for i in indices]\n",
    "\n",
    "# Map IDs to colors using the colormap\n",
    "color_list = [\"tab:blue\",\"tab:orange\",\"tab:green\",\"tab:red\",\"tab:purple\",\"tab:brown\",\"tab:pink\",\"tab:gray\",\"tab:olive\",\"tab:cyan\"]\n",
    "colors = [color_list[i] for i in sampled_ids]\n",
    "\n",
    "# creating figure\n",
    "fig = plt.figure()\n",
    "ax = Axes3D(fig)\n",
    " \n",
    "# creating the plot \n",
    "unique_ids = np.unique(sampled_ids)\n",
    "print(unique_ids)\n",
    "\n",
    "for i, unique_id in enumerate(unique_ids):\n",
    "    # Select data points for the current ID\n",
    "    id_mask = sampled_ids == unique_id\n",
    "    x_id = x[id_mask]\n",
    "    y_id = y[id_mask]\n",
    "    z_id = z[id_mask]\n",
    "\n",
    "    # Plot the data points with color-coding\n",
    "    print(color_list[unique_id])\n",
    "    colors_id = [color for color, mask in zip(colors, id_mask) if mask]\n",
    "    print(colors_id)\n",
    "    ax.scatter(x_id, y_id, z_id, c=colors_id, label=ClassNames[unique_id], alpha=0.3)\n",
    "\n",
    "# setting title and labels\n",
    "ax.set_title(\"3D plot\")\n",
    "ax.set_xlabel('x-axis')\n",
    "ax.set_ylabel('y-axis')\n",
    "ax.set_zlabel('z-axis')\n",
    " \n",
    "# displaying the plot\n",
    "plt.show()"
   ]
  }
 ],
 "metadata": {
  "kernelspec": {
   "display_name": "late_fusion",
   "language": "python",
   "name": "python3"
  },
  "language_info": {
   "codemirror_mode": {
    "name": "ipython",
    "version": 3
   },
   "file_extension": ".py",
   "mimetype": "text/x-python",
   "name": "python",
   "nbconvert_exporter": "python",
   "pygments_lexer": "ipython3",
   "version": "3.7.16"
  }
 },
 "nbformat": 4,
 "nbformat_minor": 2
}
