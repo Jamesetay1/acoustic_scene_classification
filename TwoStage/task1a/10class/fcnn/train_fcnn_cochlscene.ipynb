{
 "cells": [
  {
   "cell_type": "code",
   "execution_count": 1,
   "metadata": {},
   "outputs": [
    {
     "name": "stderr",
     "output_type": "stream",
     "text": [
      "Using TensorFlow backend.\n"
     ]
    }
   ],
   "source": [
    "import os\n",
    "os.environ[\"CUDA_DEVICE_ORDER\"] = \"PCI_BUS_ID\"\n",
    "os.environ[\"CUDA_VISIBLE_DEVICES\"] = \"7\"\n",
    "\n",
    "import numpy as np\n",
    "import keras\n",
    "import tensorflow\n",
    "from keras.optimizers import SGD\n",
    "import collections\n",
    "\n",
    "import sys\n",
    "sys.path.append(\"..\")\n",
    "from utils import *\n",
    "from funcs import *\n",
    "\n",
    "from fcnn_att import model_fcnn\n",
    "from DCASE_training_functions import *\n",
    "\n",
    "from tensorflow import ConfigProto\n",
    "from tensorflow import InteractiveSession\n",
    "\n",
    "%load_ext autoreload\n",
    "%autoreload 2\n",
    "\n",
    "config = ConfigProto()\n",
    "config.gpu_options.allow_growth = True\n",
    "session = InteractiveSession(config=config)\n",
    "\n",
    "\n",
    "# Please put your csv file for train and validation here.\n",
    "# If you dont generate the extra augmented data, please use \n",
    "# ../evaluation_setup/fold1_train.csv and delete the aug_csv part\n",
    "train_csv = '/work/contractors/jtaylor/acoustic_scene_classification/data/CochlScene/train_fold.tsv'\n",
    "val_csv = '/work/contractors/jtaylor/acoustic_scene_classification/data/CochlScene/val_fold.tsv'\n",
    "aug_csv = '/work/contractors/jtaylor/acoustic_scene_classification/data/CochlScene/train_fold.tsv'\n",
    "#aug_csv = 'evaluation_setup/fold1_train_a_2003.csv'\n",
    "\n",
    "feat_path = '/work/contractors/jtaylor/acoustic_scene_classification/data/CochlScene/features/logmel128_scaled/'\n",
    "#aug_path = 'features/logmel128_reverb_scaled/'\n",
    "\n",
    "##################  Going to try with just 10 classes ##################\n",
    "train_csv = '/work/contractors/jtaylor/acoustic_scene_classification/data/CochlScene/train_fold_10.tsv'\n",
    "val_csv = '/work/contractors/jtaylor/acoustic_scene_classification/data/CochlScene/val_fold_10.tsv'\n",
    "\n",
    "feat_path = '/work/contractors/jtaylor/acoustic_scene_classification/data/CochlScene/features/logmel128_scaled/'\n",
    "########################################################################\n",
    "\n",
    "experiments = 'cochlscene_run/'\n",
    "\n",
    "if not os.path.exists(experiments):\n",
    "    os.makedirs(experiments)"
   ]
  },
  {
   "cell_type": "code",
   "execution_count": null,
   "metadata": {},
   "outputs": [],
   "source": [
    "#train_aug_csv = generate_train_aug_csv(train_csv, aug_csv, feat_path, aug_path, experiments)\n",
    "train_aug_csv = train_csv\n",
    "\n",
    "num_audio_channels = 1\n",
    "num_freq_bin = 128\n",
    "num_classes = 10\n",
    "max_lr = 0.1\n",
    "batch_size = 64\n",
    "num_epochs = 50\n",
    "mixup_alpha = 0.4\n",
    "crop_length = 400\n",
    "sample_num = len(open(train_aug_csv, 'r').readlines()) - 1\n",
    "print(f'Numbers of training samples: {sample_num}')\n",
    "\n",
    "\n",
    "# compute delta and delta delta for validation data\n",
    "data_val, y_val = load_data_2020(feat_path, val_csv, num_freq_bin, 'logmel')\n",
    "print(f'{len(y_val)} validation samples with values {set(y_val)}')\n",
    "print(f'{collections.Counter(y_val)}\\n')\n",
    "print(f'validation data shape: {data_val.shape}')\n",
    "\n",
    "data_deltas_val = deltas(data_val)\n",
    "print(f'validation data deltas shape: {data_deltas_val.shape}')\n",
    "\n",
    "data_deltas_deltas_val = deltas(data_deltas_val)\n",
    "print(f'validation data delta deltas shape: {data_deltas_val.shape}')\n",
    "\n",
    "data_val = np.concatenate((data_val[:,:,4:-4,:],data_deltas_val[:,:,2:-2,:],data_deltas_deltas_val),axis=-1)\n",
    "print(f'validation data concat shape: {data_val.shape}')\n",
    "\n",
    "y_val = keras.utils.to_categorical(y_val, num_classes)"
   ]
  },
  {
   "cell_type": "code",
   "execution_count": null,
   "metadata": {},
   "outputs": [],
   "source": [
    "model = model_fcnn(num_classes, input_shape=[num_freq_bin, None, 3*num_audio_channels], num_filters=[48, 96, 192], wd=0)"
   ]
  },
  {
   "cell_type": "code",
   "execution_count": null,
   "metadata": {},
   "outputs": [],
   "source": [
    "model.compile(loss='categorical_crossentropy',\n",
    "              optimizer =SGD(lr=max_lr,decay=1e-6, momentum=0.9, nesterov=False),\n",
    "              metrics=['accuracy'])\n",
    "\n",
    "model.summary()\n",
    "\n",
    "lr_scheduler = LR_WarmRestart(nbatch=np.ceil(sample_num/batch_size), Tmult=2,\n",
    "                              initial_lr=max_lr, min_lr=max_lr*1e-4,\n",
    "                              epochs_restart = [3.0, 7.0, 15.0, 31.0, 63.0,127.0]) \n",
    "save_path = experiments + \"/model-{epoch:02d}-{val_acc:.4f}.hdf5\"\n",
    "checkpoint = keras.callbacks.ModelCheckpoint(save_path, monitor='val_acc', verbose=1, save_best_only=False, mode='max')\n",
    "callbacks = [lr_scheduler, checkpoint]"
   ]
  },
  {
   "cell_type": "code",
   "execution_count": null,
   "metadata": {},
   "outputs": [],
   "source": [
    "# Due to the memory limitation, in the training stage we split the training data\n",
    "train_data_generator = Generator_timefreqmask_withdelta_splitted(feat_path, train_aug_csv, num_freq_bin,\n",
    "                              batch_size=batch_size,\n",
    "                              alpha=mixup_alpha,\n",
    "                              crop_length=crop_length, splitted_num=20, classes=10)()\n",
    "\n",
    "history = model.fit_generator(train_data_generator,\n",
    "                              validation_data=(data_val, y_val),\n",
    "                              epochs=num_epochs, \n",
    "                              verbose=1, \n",
    "                              workers=4,\n",
    "                              max_queue_size = 100,\n",
    "                              callbacks=callbacks,\n",
    "                              steps_per_epoch=np.ceil(sample_num/batch_size)\n",
    "                              ) "
   ]
  },
  {
   "cell_type": "code",
   "execution_count": null,
   "metadata": {},
   "outputs": [],
   "source": []
  }
 ],
 "metadata": {
  "kernelspec": {
   "display_name": "d20-keras",
   "language": "python",
   "name": "python3"
  },
  "language_info": {
   "codemirror_mode": {
    "name": "ipython",
    "version": 3
   },
   "file_extension": ".py",
   "mimetype": "text/x-python",
   "name": "python",
   "nbconvert_exporter": "python",
   "pygments_lexer": "ipython3",
   "version": "3.6.10"
  }
 },
 "nbformat": 4,
 "nbformat_minor": 2
}
