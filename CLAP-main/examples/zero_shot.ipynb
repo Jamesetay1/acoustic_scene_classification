{
 "cells": [
  {
   "cell_type": "code",
   "execution_count": 11,
   "metadata": {},
   "outputs": [],
   "source": [
    "\"\"\"\n",
    "This is an example using CLAP to perform zeroshot\n",
    "    classification on ESC50 (https://github.com/karolpiczak/ESC-50).\n",
    "\"\"\"\n",
    "\n",
    "from msclap import CLAP\n",
    "from esc50_dataset import ESC50\n",
    "import torch.nn.functional as F\n",
    "import numpy as np\n",
    "from tqdm import tqdm\n",
    "from sklearn.metrics import accuracy_score\n",
    "\n",
    "%load_ext autoreload\n",
    "%autoreload 2"
   ]
  },
  {
   "cell_type": "code",
   "execution_count": 13,
   "metadata": {},
   "outputs": [
    {
     "name": "stdout",
     "output_type": "stream",
     "text": [
      "Using downloaded and verified file: root_path/ESC-50-master.zip\n",
      "Loading audio files\n"
     ]
    },
    {
     "name": "stderr",
     "output_type": "stream",
     "text": [
      "2000it [00:00, 9458.87it/s]\n"
     ]
    }
   ],
   "source": [
    "# Load dataset\n",
    "root_path = \"root_path\" # Folder with ESC-50-master/\n",
    "dataset = ESC50(root=root_path, download=True) #If download=False code assumes base_folder='ESC-50-master' in esc50_dataset.py\n",
    "prompt = 'this is the sound of '\n",
    "y = [prompt + x for x in dataset.classes]"
   ]
  },
  {
   "cell_type": "code",
   "execution_count": 17,
   "metadata": {},
   "outputs": [
    {
     "name": "stdout",
     "output_type": "stream",
     "text": [
      "['this is the sound of airplane', 'this is the sound of breathing', 'this is the sound of brushing teeth', 'this is the sound of can opening', 'this is the sound of car horn', 'this is the sound of cat', 'this is the sound of chainsaw', 'this is the sound of chirping birds', 'this is the sound of church bells', 'this is the sound of clapping', 'this is the sound of clock alarm', 'this is the sound of clock tick', 'this is the sound of coughing', 'this is the sound of cow', 'this is the sound of crackling fire', 'this is the sound of crickets', 'this is the sound of crow', 'this is the sound of crying baby', 'this is the sound of dog', 'this is the sound of door wood creaks', 'this is the sound of door wood knock', 'this is the sound of drinking sipping', 'this is the sound of engine', 'this is the sound of fireworks', 'this is the sound of footsteps', 'this is the sound of frog', 'this is the sound of glass breaking', 'this is the sound of hand saw', 'this is the sound of helicopter', 'this is the sound of hen', 'this is the sound of insects', 'this is the sound of keyboard typing', 'this is the sound of laughing', 'this is the sound of mouse click', 'this is the sound of pig', 'this is the sound of pouring water', 'this is the sound of rain', 'this is the sound of rooster', 'this is the sound of sea waves', 'this is the sound of sheep', 'this is the sound of siren', 'this is the sound of sneezing', 'this is the sound of snoring', 'this is the sound of thunderstorm', 'this is the sound of toilet flush', 'this is the sound of train', 'this is the sound of vacuum cleaner', 'this is the sound of washing machine', 'this is the sound of water drops', 'this is the sound of wind']\n",
      "{'this is the sound of airplane': 1, 'this is the sound of breathing': 2, 'this is the sound of brushing teeth': 3, 'this is the sound of can opening': 4, 'this is the sound of car horn': 5, 'this is the sound of cat': 6, 'this is the sound of chainsaw': 7, 'this is the sound of chirping birds': 8, 'this is the sound of church bells': 9, 'this is the sound of clapping': 10, 'this is the sound of clock alarm': 11, 'this is the sound of clock tick': 12, 'this is the sound of coughing': 13, 'this is the sound of cow': 14, 'this is the sound of crackling fire': 15, 'this is the sound of crickets': 16, 'this is the sound of crow': 17, 'this is the sound of crying baby': 18, 'this is the sound of dog': 19, 'this is the sound of door wood creaks': 20, 'this is the sound of door wood knock': 21, 'this is the sound of drinking sipping': 22, 'this is the sound of engine': 23, 'this is the sound of fireworks': 24, 'this is the sound of footsteps': 25, 'this is the sound of frog': 26, 'this is the sound of glass breaking': 27, 'this is the sound of hand saw': 28, 'this is the sound of helicopter': 29, 'this is the sound of hen': 30, 'this is the sound of insects': 31, 'this is the sound of keyboard typing': 32, 'this is the sound of laughing': 33, 'this is the sound of mouse click': 34, 'this is the sound of pig': 35, 'this is the sound of pouring water': 36, 'this is the sound of rain': 37, 'this is the sound of rooster': 38, 'this is the sound of sea waves': 39, 'this is the sound of sheep': 40, 'this is the sound of siren': 41, 'this is the sound of sneezing': 42, 'this is the sound of snoring': 43, 'this is the sound of thunderstorm': 44, 'this is the sound of toilet flush': 45, 'this is the sound of train': 46, 'this is the sound of vacuum cleaner': 47, 'this is the sound of washing machine': 48, 'this is the sound of water drops': 49, 'this is the sound of wind': 50}\n"
     ]
    }
   ],
   "source": [
    "print(y)\n"
   ]
  },
  {
   "cell_type": "code",
   "execution_count": 15,
   "metadata": {},
   "outputs": [],
   "source": [
    "# Load and initialize CLAP\n",
    "clap_model = CLAP(version = '2023', use_cuda=False)\n",
    "\n",
    "# Computing text embeddings\n",
    "text_embeddings = clap_model.get_text_embeddings(y)"
   ]
  },
  {
   "cell_type": "code",
   "execution_count": 27,
   "metadata": {},
   "outputs": [
    {
     "name": "stderr",
     "output_type": "stream",
     "text": [
      "  0%|          | 0/2000 [00:00<?, ?it/s]"
     ]
    },
    {
     "name": "stdout",
     "output_type": "stream",
     "text": [
      "tensor([[0., 0., 0., 0., 0., 0., 0., 0., 0., 0., 0., 0., 0., 0., 0., 0., 0., 0.,\n",
      "         1., 0., 0., 0., 0., 0., 0., 0., 0., 0., 0., 0., 0., 0., 0., 0., 0., 0.,\n",
      "         0., 0., 0., 0., 0., 0., 0., 0., 0., 0., 0., 0., 0., 0.]])\n",
      "[[1.66954374e-06 5.19530404e-05 1.47015162e-04 8.23233335e-04\n",
      "  4.10466528e-05 1.08483369e-02 1.14987663e-03 5.60870627e-03\n",
      "  6.17996993e-05 1.09129734e-02 8.31605867e-05 4.55333175e-05\n",
      "  2.29639802e-04 1.85293949e-03 4.01197349e-06 6.12806587e-04\n",
      "  2.77046040e-02 3.27465386e-05 8.92622113e-01 1.36927056e-05\n",
      "  1.79056471e-04 2.75679067e-05 5.42990301e-06 9.94071524e-05\n",
      "  1.75833411e-05 6.38487225e-04 2.35644355e-03 3.51600611e-04\n",
      "  2.66799702e-06 9.98461153e-03 6.97230687e-04 2.00975137e-05\n",
      "  1.59933566e-04 6.82282989e-05 1.21546665e-03 1.19438555e-05\n",
      "  1.15009934e-05 1.76603869e-02 3.61806110e-06 2.86239083e-03\n",
      "  4.68865401e-05 1.05483457e-02 1.34564525e-05 4.96565990e-05\n",
      "  7.05740013e-06 3.76787239e-06 7.48499151e-05 4.11082146e-06\n",
      "  1.63742279e-05 1.40533575e-05]]\n"
     ]
    },
    {
     "name": "stderr",
     "output_type": "stream",
     "text": [
      "\n"
     ]
    }
   ],
   "source": [
    "# Computing audio embeddings\n",
    "y_preds, y_labels = [], []\n",
    "\n",
    "for i in tqdm(range(len(dataset))):\n",
    "    x, _, one_hot_target = dataset.__getitem__(i)\n",
    "    print(one_hot_target)\n",
    "    audio_embeddings = clap_model.get_audio_embeddings([x], resample=True)\n",
    "    similarity = clap_model.compute_similarity(audio_embeddings, text_embeddings)\n",
    "    y_pred = F.softmax(similarity.detach().cpu(), dim=1).numpy()\n",
    "    print(y_pred)\n",
    "    y_preds.append(y_pred)\n",
    "    y_labels.append(one_hot_target.detach().cpu().numpy())\n",
    "    break"
   ]
  },
  {
   "cell_type": "code",
   "execution_count": 31,
   "metadata": {},
   "outputs": [
    {
     "name": "stdout",
     "output_type": "stream",
     "text": [
      "[array([[1.66954374e-06, 5.19530404e-05, 1.47015162e-04, 8.23233335e-04,\n",
      "        4.10466528e-05, 1.08483369e-02, 1.14987663e-03, 5.60870627e-03,\n",
      "        6.17996993e-05, 1.09129734e-02, 8.31605867e-05, 4.55333175e-05,\n",
      "        2.29639802e-04, 1.85293949e-03, 4.01197349e-06, 6.12806587e-04,\n",
      "        2.77046040e-02, 3.27465386e-05, 8.92622113e-01, 1.36927056e-05,\n",
      "        1.79056471e-04, 2.75679067e-05, 5.42990301e-06, 9.94071524e-05,\n",
      "        1.75833411e-05, 6.38487225e-04, 2.35644355e-03, 3.51600611e-04,\n",
      "        2.66799702e-06, 9.98461153e-03, 6.97230687e-04, 2.00975137e-05,\n",
      "        1.59933566e-04, 6.82282989e-05, 1.21546665e-03, 1.19438555e-05,\n",
      "        1.15009934e-05, 1.76603869e-02, 3.61806110e-06, 2.86239083e-03,\n",
      "        4.68865401e-05, 1.05483457e-02, 1.34564525e-05, 4.96565990e-05,\n",
      "        7.05740013e-06, 3.76787239e-06, 7.48499151e-05, 4.11082146e-06,\n",
      "        1.63742279e-05, 1.40533575e-05]], dtype=float32)]\n",
      "[array([[0., 0., 0., 0., 0., 0., 0., 0., 0., 0., 0., 0., 0., 0., 0., 0.,\n",
      "        0., 0., 1., 0., 0., 0., 0., 0., 0., 0., 0., 0., 0., 0., 0., 0.,\n",
      "        0., 0., 0., 0., 0., 0., 0., 0., 0., 0., 0., 0., 0., 0., 0., 0.,\n",
      "        0., 0.]], dtype=float32)]\n"
     ]
    }
   ],
   "source": [
    "print(y_preds)\n",
    "print(y_labels)\n"
   ]
  },
  {
   "cell_type": "code",
   "execution_count": null,
   "metadata": {},
   "outputs": [],
   "source": [
    "y_labels, y_preds = np.concatenate(y_labels, axis=0), np.concatenate(y_preds, axis=0)\n",
    "acc = accuracy_score(np.argmax(y_labels, axis=1), np.argmax(y_preds, axis=1))\n",
    "print('ESC50 Accuracy {}'.format(acc))\n",
    "\n",
    "\"\"\"\n",
    "The output:\n",
    "\n",
    "ESC50 Accuracy: 93.9%\n",
    "\n",
    "\"\"\""
   ]
  }
 ],
 "metadata": {
  "kernelspec": {
   "display_name": "clap-env",
   "language": "python",
   "name": "python3"
  },
  "language_info": {
   "codemirror_mode": {
    "name": "ipython",
    "version": 3
   },
   "file_extension": ".py",
   "mimetype": "text/x-python",
   "name": "python",
   "nbconvert_exporter": "python",
   "pygments_lexer": "ipython3",
   "version": "3.11.7"
  }
 },
 "nbformat": 4,
 "nbformat_minor": 2
}
