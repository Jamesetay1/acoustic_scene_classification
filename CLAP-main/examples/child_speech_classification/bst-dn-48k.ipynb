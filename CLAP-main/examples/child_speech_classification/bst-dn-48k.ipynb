{
 "cells": [
  {
   "cell_type": "code",
   "execution_count": 2,
   "metadata": {},
   "outputs": [],
   "source": [
    "from msclap import CLAP\n",
    "import torch\n",
    "import torch.nn.functional as F\n",
    "import numpy as np\n",
    "from tqdm import tqdm\n",
    "from sklearn.metrics import accuracy_score\n",
    "import pandas as pd\n",
    "import os\n",
    "import pickle\n",
    "import matplotlib.pyplot as plt\n",
    "\n",
    "import seaborn as sns\n",
    "import matplotlib.pyplot as plt\n",
    "from sklearn.metrics import confusion_matrix"
   ]
  },
  {
   "cell_type": "code",
   "execution_count": 27,
   "metadata": {},
   "outputs": [
    {
     "data": {
      "text/html": [
       "<div>\n",
       "<style scoped>\n",
       "    .dataframe tbody tr th:only-of-type {\n",
       "        vertical-align: middle;\n",
       "    }\n",
       "\n",
       "    .dataframe tbody tr th {\n",
       "        vertical-align: top;\n",
       "    }\n",
       "\n",
       "    .dataframe thead th {\n",
       "        text-align: right;\n",
       "    }\n",
       "</style>\n",
       "<table border=\"1\" class=\"dataframe\">\n",
       "  <thead>\n",
       "    <tr style=\"text-align: right;\">\n",
       "      <th></th>\n",
       "      <th>filename</th>\n",
       "      <th>class</th>\n",
       "    </tr>\n",
       "  </thead>\n",
       "  <tbody>\n",
       "    <tr>\n",
       "      <th>136</th>\n",
       "      <td>/work/data_cloud/speech_enhancement/eval_data/...</td>\n",
       "      <td>child</td>\n",
       "    </tr>\n",
       "    <tr>\n",
       "      <th>82</th>\n",
       "      <td>/work/data_cloud/speech_enhancement/eval_data/...</td>\n",
       "      <td>child</td>\n",
       "    </tr>\n",
       "    <tr>\n",
       "      <th>81</th>\n",
       "      <td>/work/data_cloud/speech_enhancement/eval_data/...</td>\n",
       "      <td>child</td>\n",
       "    </tr>\n",
       "    <tr>\n",
       "      <th>65</th>\n",
       "      <td>/work/data_cloud/speech_enhancement/eval_data/...</td>\n",
       "      <td>child</td>\n",
       "    </tr>\n",
       "    <tr>\n",
       "      <th>111</th>\n",
       "      <td>/work/data_cloud/speech_enhancement/eval_data/...</td>\n",
       "      <td>child</td>\n",
       "    </tr>\n",
       "    <tr>\n",
       "      <th>...</th>\n",
       "      <td>...</td>\n",
       "      <td>...</td>\n",
       "    </tr>\n",
       "    <tr>\n",
       "      <th>99</th>\n",
       "      <td>/work/data_cloud/speech_enhancement/eval_data/...</td>\n",
       "      <td>male</td>\n",
       "    </tr>\n",
       "    <tr>\n",
       "      <th>100</th>\n",
       "      <td>/work/data_cloud/speech_enhancement/eval_data/...</td>\n",
       "      <td>male</td>\n",
       "    </tr>\n",
       "    <tr>\n",
       "      <th>102</th>\n",
       "      <td>/work/data_cloud/speech_enhancement/eval_data/...</td>\n",
       "      <td>male</td>\n",
       "    </tr>\n",
       "    <tr>\n",
       "      <th>106</th>\n",
       "      <td>/work/data_cloud/speech_enhancement/eval_data/...</td>\n",
       "      <td>male</td>\n",
       "    </tr>\n",
       "    <tr>\n",
       "      <th>209</th>\n",
       "      <td>/work/data_cloud/speech_enhancement/eval_data/...</td>\n",
       "      <td>male</td>\n",
       "    </tr>\n",
       "  </tbody>\n",
       "</table>\n",
       "<p>210 rows × 2 columns</p>\n",
       "</div>"
      ],
      "text/plain": [
       "                                              filename  class\n",
       "136  /work/data_cloud/speech_enhancement/eval_data/...  child\n",
       "82   /work/data_cloud/speech_enhancement/eval_data/...  child\n",
       "81   /work/data_cloud/speech_enhancement/eval_data/...  child\n",
       "65   /work/data_cloud/speech_enhancement/eval_data/...  child\n",
       "111  /work/data_cloud/speech_enhancement/eval_data/...  child\n",
       "..                                                 ...    ...\n",
       "99   /work/data_cloud/speech_enhancement/eval_data/...   male\n",
       "100  /work/data_cloud/speech_enhancement/eval_data/...   male\n",
       "102  /work/data_cloud/speech_enhancement/eval_data/...   male\n",
       "106  /work/data_cloud/speech_enhancement/eval_data/...   male\n",
       "209  /work/data_cloud/speech_enhancement/eval_data/...   male\n",
       "\n",
       "[210 rows x 2 columns]"
      ]
     },
     "metadata": {},
     "output_type": "display_data"
    }
   ],
   "source": [
    "df= pd.read_csv('/work/data_cloud/speech_enhancement/eval_data/real_world/subjective/subjective_testset_48k/BST_2022_48k/BST_DN/meta_bstdn_v3.csv')\n",
    "\n",
    "df['age_group'].unique()\n",
    "df['class'] = np.where(df['age_group'] == 'adult', df['gender'], 'child')\n",
    "df['filename'] = '/work/data_cloud/speech_enhancement/eval_data/real_world/subjective/subjective_testset_48k/BST_2022_48k/BST_DN/BST_DN_v3_input_files/' + df['filename']\n",
    "\n",
    "df = df[['filename', 'class']]\n",
    "df=df.sort_values('class')\n",
    "display(df)\n"
   ]
  },
  {
   "cell_type": "code",
   "execution_count": 28,
   "metadata": {},
   "outputs": [
    {
     "name": "stdout",
     "output_type": "stream",
     "text": [
      "{'child': 0, 'female': 1, 'male': 2}\n"
     ]
    }
   ],
   "source": [
    "classes = df['class'].unique()\n",
    "\n",
    "class_id_map = {name: i for i, name in enumerate(classes, 0)}\n",
    "print(class_id_map)\n",
    "\n",
    "prompt = 'The speaker is aa:'\n",
    "y = [prompt + x for x in classes]\n"
   ]
  },
  {
   "cell_type": "code",
   "execution_count": 29,
   "metadata": {},
   "outputs": [],
   "source": [
    "# Load and initialize CLAP\n",
    "clap_model = CLAP(version = '2023', use_cuda=True)\n",
    "\n",
    "# Computing text embeddings\n",
    "text_embeddings = clap_model.get_text_embeddings(y)"
   ]
  },
  {
   "cell_type": "code",
   "execution_count": 30,
   "metadata": {},
   "outputs": [
    {
     "name": "stdout",
     "output_type": "stream",
     "text": [
      "/mounts/ud-data/jtaylor/a5f2c23d-7fb6-41a6-ac0c-3a2ffc02b992/data/acoustic_scene_classification/CLAP-main/examples/child_speech_classification\n"
     ]
    },
    {
     "name": "stderr",
     "output_type": "stream",
     "text": [
      "100%|██████████| 210/210 [00:24<00:00,  8.70it/s]\n"
     ]
    }
   ],
   "source": [
    "# Computing audio embeddings\n",
    "y_preds, y_labels = [], []\n",
    "print(os.getcwd())\n",
    "\n",
    "for i in tqdm(range(len(df))):\n",
    "    path, label = df.iloc[i]\n",
    "    idx = class_id_map[label]\n",
    "    #print(idx)\n",
    "    one_hot_target = torch.nn.functional.one_hot(torch.tensor([idx]), num_classes=len(classes)+1)\n",
    "\n",
    "    audio_embeddings = clap_model.get_audio_embeddings([path], resample=True)\n",
    "    similarity = clap_model.compute_similarity(audio_embeddings, text_embeddings)\n",
    "\n",
    "    y_pred = F.softmax(similarity.detach().cpu(), dim=1).numpy()\n",
    "\n",
    "    y_preds.append(y_pred)\n",
    "    y_labels.append(one_hot_target.detach().cpu().numpy())\n"
   ]
  },
  {
   "cell_type": "code",
   "execution_count": 31,
   "metadata": {},
   "outputs": [
    {
     "name": "stdout",
     "output_type": "stream",
     "text": [
      "Accuracy 0.8666666666666667\n"
     ]
    }
   ],
   "source": [
    "y_lab, y_pred = np.concatenate(y_labels, axis=0), np.concatenate(y_preds, axis=0)\n",
    "y_label_val = np.argmax(y_lab, axis=1)\n",
    "y_pred_val = np.argmax(y_pred, axis=1)\n",
    "acc = accuracy_score(np.argmax(y_lab, axis=1), np.argmax(y_pred, axis=1))\n",
    "print('Accuracy {}'.format(acc))"
   ]
  },
  {
   "cell_type": "code",
   "execution_count": 32,
   "metadata": {},
   "outputs": [
    {
     "data": {
      "image/png": "[encoded data removed]",
      "text/plain": [
       "<Figure size 1280x960 with 2 Axes>"
      ]
     },
     "metadata": {},
     "output_type": "display_data"
    }
   ],
   "source": [
    "# get confusion matrix\n",
    "conf_matrix = confusion_matrix(y_label_val,y_pred_val)\n",
    "conf_mat_norm_recall = conf_matrix.astype('float32')/conf_matrix.sum(axis=1)[:,np.newaxis]\n",
    "recall_by_class = np.diagonal(conf_mat_norm_recall)\n",
    "mean_recall = np.mean(recall_by_class)\n",
    "\n",
    "# Calculate row sums to use for percentages\n",
    "row_sums = conf_matrix.sum(axis=1)\n",
    "\n",
    "# Calculate percentages\n",
    "percentages = (conf_matrix.T / row_sums).T  # Transpose for division, then transpose back\n",
    "\n",
    "# Format percentages as strings with '%' symbol\n",
    "annot_data = [['{:.2f}'.format(val) for val in row] for row in percentages]\n",
    "annot_data = [['' if float(val <= 0.04) else '{:.2f}'.format(val) for val in row] for row in percentages]\n",
    "\n",
    "plt.figure(dpi=200)\n",
    "\n",
    "annot_kws = {'size': 6}\n",
    "ax = sns.heatmap(percentages, xticklabels=classes, yticklabels=classes, annot=annot_data, fmt='', square=True, cmap='Blues', annot_kws=annot_kws)\n",
    "ax.set_xlabel('Predicted Label')\n",
    "ax.set_xticklabels(ax.get_xticklabels(), rotation = 90)\n",
    "ax.set_ylabel('True Label')\n",
    "\n",
    "#plt.subplots_adjust(left=0.2, bottom=0.35)\n",
    "plt.show()"
   ]
  },
  {
   "cell_type": "code",
   "execution_count": null,
   "metadata": {},
   "outputs": [],
   "source": []
  }
 ],
 "metadata": {
  "kernelspec": {
   "display_name": "clap-env",
   "language": "python",
   "name": "python3"
  },
  "language_info": {
   "codemirror_mode": {
    "name": "ipython",
    "version": 3
   },
   "file_extension": ".py",
   "mimetype": "text/x-python",
   "name": "python",
   "nbconvert_exporter": "python",
   "pygments_lexer": "ipython3",
   "version": "3.11.7"
  }
 },
 "nbformat": 4,
 "nbformat_minor": 2
}
