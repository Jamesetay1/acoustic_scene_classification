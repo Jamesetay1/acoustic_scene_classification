{
  "cells": [
    {
      "cell_type": "code",
      "execution_count": 15,
      "id": "initial_id",
      "metadata": {
        "collapsed": true,
        "id": "initial_id",
        "outputId": "78e492f4-dd7a-4c43-bdd8-0c9bcee2d0ee",
        "colab": {
          "base_uri": "https://localhost:8080/"
        }
      },
      "outputs": [
        {
          "output_type": "stream",
          "name": "stdout",
          "text": [
            "update-alternatives: error: no alternatives for python\n",
            "Python 3.10.12\n",
            "Traceback (most recent call last):\n",
            "  File \"/content/acoustic_scene_classification/RFR-CNN-2019/download_dataset.py\", line 11, in <module>\n",
            "    from trainer import  Trainer\n",
            "  File \"/content/acoustic_scene_classification/RFR-CNN-2019/trainer.py\", line 14, in <module>\n",
            "    from attrdict import AttrDefault\n",
            "  File \"/usr/local/lib/python3.10/dist-packages/attrdict/__init__.py\", line 5, in <module>\n",
            "    from attrdict.mapping import AttrMap\n",
            "  File \"/usr/local/lib/python3.10/dist-packages/attrdict/mapping.py\", line 8, in <module>\n",
            "    from attrdict.mixins import MutableAttr\n",
            "  File \"/usr/local/lib/python3.10/dist-packages/attrdict/mixins.py\", line 5, in <module>\n",
            "    from collections import Mapping, MutableMapping, Sequence\n",
            "ImportError: cannot import name 'Mapping' from 'collections' (/usr/lib/python3.10/collections/__init__.py)\n"
          ]
        }
      ],
      "source": [
        "import sys\n",
        "!update-alternatives --list python\n",
        "# Set the Python version to 3.8\n",
        "sys.version_info = (3, 6, 3, 'final', 0)\n",
        "!python --version\n",
        "!python acoustic_scene_classification/RFR-CNN-2019/download_dataset.py --version 2019"
      ]
    },
    {
      "cell_type": "code",
      "source": [],
      "metadata": {
        "id": "kPXr95GUMDxH"
      },
      "id": "kPXr95GUMDxH",
      "execution_count": 12,
      "outputs": []
    }
  ],
  "metadata": {
    "kernelspec": {
      "display_name": "Python 3",
      "language": "python",
      "name": "python3"
    },
    "language_info": {
      "codemirror_mode": {
        "name": "ipython",
        "version": 2
      },
      "file_extension": ".py",
      "mimetype": "text/x-python",
      "name": "python",
      "nbconvert_exporter": "python",
      "pygments_lexer": "ipython2",
      "version": "2.7.6"
    },
    "colab": {
      "provenance": []
    }
  },
  "nbformat": 4,
  "nbformat_minor": 5
}