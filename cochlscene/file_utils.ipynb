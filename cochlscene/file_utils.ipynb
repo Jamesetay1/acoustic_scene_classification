{
 "cells": [
  {
   "cell_type": "code",
   "execution_count": 2,
   "metadata": {},
   "outputs": [
    {
     "name": "stdout",
     "output_type": "stream",
     "text": [
      "/mounts/ud3/contractors/jtaylor/acoustic_scene_classification/cochlscene\n",
      "hi\n"
     ]
    }
   ],
   "source": [
    "import os\n",
    "print(os.getcwd())\n",
    "\n",
    "train_val_test = {'train_fold.tsv':'Train', 'val_fold.tsv':'Val', 'test_fold.tsv':'Test'}\n",
    "\n",
    "\n",
    "with open('data_info.tsv', 'w') as f:\n",
    "\tprint(\"hi\")\n",
    "    \n",
    "\tfor file, split in train_val_test.items():\n",
    "\t\twith open(f'/work/contractors/jtaylor/acoustic_scene_classification/data/CochlScene/{file}', 'r') as g:\n",
    "\t\t\tfor line in g:\n",
    "\t\t\t\tf.write(f'{line}\\t{split}')"
   ]
  },
  {
   "cell_type": "code",
   "execution_count": null,
   "metadata": {},
   "outputs": [],
   "source": []
  }
 ],
 "metadata": {
  "kernelspec": {
   "display_name": "cochlscene",
   "language": "python",
   "name": "python3"
  },
  "language_info": {
   "codemirror_mode": {
    "name": "ipython",
    "version": 3
   },
   "file_extension": ".py",
   "mimetype": "text/x-python",
   "name": "python",
   "nbconvert_exporter": "python",
   "pygments_lexer": "ipython3",
   "version": "3.10.13"
  }
 },
 "nbformat": 4,
 "nbformat_minor": 2
}
