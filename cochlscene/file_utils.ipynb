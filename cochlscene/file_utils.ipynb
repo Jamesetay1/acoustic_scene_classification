{
 "cells": [
  {
   "cell_type": "code",
   "execution_count": null,
   "metadata": {},
   "outputs": [],
   "source": [
    "import os\n",
    "print(os.getcwd())\n",
    "\n",
    "train_val_test = {'train_fold.tsv':'Train', 'val_fold.tsv':'Val', 'test_fold.tsv':'Test'}\n",
    "\n",
    "\n",
    "with open('data_info.tsv', 'w') as f:\n",
    "    print(\"hi\")\n",
    "    \n",
    "\tfor file, split in train_val_test.items():\n",
    "\t\twith open(f'/work/contractors/jtaylor/acoustic_scene_classification/data/CochlScene/{file}', 'w') as g:\n",
    "     \n",
    "\t\n",
    "\tfor segment, seg in train_val_test.items():\n",
    "\t\twith open(f'/work/contractors/jtaylor/acoustic_scene_classification/data/CochlScene/{segment}', 'w') as f:\n",
    "\t\t\tf.write('filename\\tscene_label\\n')\n",
    "\n",
    "\t\t\tdirectory = f'/work/contractors/jtaylor/acoustic_scene_classification/data/CochlScene/{seg}'\n",
    "\t\t\tfor filename in os.listdir(directory):\n",
    "\t\t\t\tfile_path = directory + '/' + filename\n",
    "\t\t\t\tfor wav_file in os.listdir(file_path):\n",
    "\t\t\t\t\t# checking if it is a file\n",
    "\t\t\t\t\tf.write(f'{filename}/{wav_file}\\t{filename}\\n')\n"
   ]
  }
 ],
 "metadata": {
  "language_info": {
   "name": "python"
  }
 },
 "nbformat": 4,
 "nbformat_minor": 2
}
